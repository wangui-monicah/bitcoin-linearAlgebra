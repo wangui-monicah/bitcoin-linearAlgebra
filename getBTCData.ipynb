{
 "cells": [
  {
   "cell_type": "code",
   "execution_count": 6,
   "id": "ac6d4c44",
   "metadata": {},
   "outputs": [],
   "source": [
    "from datetime import datetime\n",
    "import time\n",
    "import json\n",
    "import pandas as pd\n",
    "\n",
    "#https://finance.yahoo.com/quote/BTC-USD/history?\n",
    "# period1=1413417600&\n",
    "# period2=1700092800&\n",
    "# interval=1d&filter=history&frequency=1d"
   ]
  },
  {
   "cell_type": "code",
   "execution_count": 7,
   "id": "f306c177",
   "metadata": {},
   "outputs": [],
   "source": [
    "def construct_download_url(\n",
    "    ticker,\n",
    "    period1,\n",
    "    period2,\n",
    "    interval = 'daily'\n",
    "):\n",
    "    \n",
    "    \"\"\"\n",
    "    :period1 & period2: \"yyyy-mm-dd\"\n",
    "    :interval: {daily, weekly, monthly}\n",
    "    \"\"\"\n",
    "    def convert_to_seconds(period):\n",
    "        datetime_value = datetime.strptime(period, '%Y-%m-%d')\n",
    "        total_seconds = int(time.mktime(datetime_value.timetuple())) + 86400\n",
    "        return total_seconds\n",
    "    \n",
    "    try:\n",
    "        interval_reference ={'daily': '1d', 'weekly' : '1wk', 'monthly' : '1mo'}\n",
    "        _interval = interval_reference.get(interval)\n",
    "        if _interval is None:\n",
    "            print('interval code is incorrect')\n",
    "            return\n",
    "        \n",
    "        p1 = convert_to_seconds(period1)\n",
    "        p2 = convert_to_seconds(period2)\n",
    "        url = f'https://query1.finance.yahoo.com/v7/finance/download/{ticker}?period1={p1}&period2={p2}&interval={_interval}&filter=history'\n",
    "        return url\n",
    "    \n",
    "    except Exception as e:\n",
    "        print(e)\n",
    "        return"
   ]
  },
  {
   "cell_type": "code",
   "execution_count": 11,
   "id": "df73ae17",
   "metadata": {},
   "outputs": [
    {
     "name": "stdout",
     "output_type": "stream",
     "text": [
      "          Date          Open          High           Low         Close  \\\n",
      "0   2021-01-02  29376.455078  33155.117188  29091.181641  32127.267578   \n",
      "1   2021-01-03  32129.408203  34608.558594  32052.316406  32782.023438   \n",
      "2   2021-01-04  32810.949219  33440.218750  28722.755859  31971.914063   \n",
      "3   2021-01-05  31977.041016  34437.589844  30221.187500  33992.429688   \n",
      "4   2021-01-06  34013.613281  36879.699219  33514.035156  36824.363281   \n",
      "5   2021-01-07  36833.875000  40180.367188  36491.191406  39371.042969   \n",
      "6   2021-01-08  39381.765625  41946.738281  36838.636719  40797.609375   \n",
      "7   2021-01-09  40788.640625  41436.351563  38980.875000  40254.546875   \n",
      "8   2021-01-10  40254.218750  41420.191406  35984.628906  38356.441406   \n",
      "9   2021-01-11  38346.531250  38346.531250  30549.599609  35566.656250   \n",
      "10  2021-01-12  35516.359375  36568.527344  32697.976563  33922.960938   \n",
      "11  2021-01-13  33915.121094  37599.960938  32584.667969  37316.359375   \n",
      "12  2021-01-14  37325.109375  39966.406250  36868.562500  39187.328125   \n",
      "13  2021-01-15  39156.707031  39577.710938  34659.589844  36825.367188   \n",
      "14  2021-01-16  36821.648438  37864.367188  35633.554688  36178.140625   \n",
      "\n",
      "       Adj Close        Volume  \n",
      "0   32127.267578   67865420765  \n",
      "1   32782.023438   78665235202  \n",
      "2   31971.914063   81163475344  \n",
      "3   33992.429688   67547324782  \n",
      "4   36824.363281   75289433811  \n",
      "5   39371.042969   84762141031  \n",
      "6   40797.609375   88107519480  \n",
      "7   40254.546875   61984162837  \n",
      "8   38356.441406   79980747690  \n",
      "9   35566.656250  123320567399  \n",
      "10  33922.960938   74773277909  \n",
      "11  37316.359375   69364315979  \n",
      "12  39187.328125   63615990033  \n",
      "13  36825.367188   67760757881  \n",
      "14  36178.140625   57706187875  \n"
     ]
    }
   ],
   "source": [
    "query_url = construct_download_url('BTC-USD', '2021-01-01', '2021-01-15', 'daily')\n",
    "df = pd.read_csv(query_url)\n",
    "print(df)\n",
    "\n",
    "df.set_index('Date', inplace=True)\n",
    "df.to_csv('Bitcoin Historical Data.cvs')\n",
    "\n",
    "with open('BTC-USD.json', 'w') as f:\n",
    "    f.write(json.dumps(df.T.to_dict(), indent=4))"
   ]
  },
  {
   "cell_type": "code",
   "execution_count": null,
   "id": "40c20300",
   "metadata": {},
   "outputs": [],
   "source": []
  }
 ],
 "metadata": {
  "kernelspec": {
   "display_name": "Python 3 (ipykernel)",
   "language": "python",
   "name": "python3"
  },
  "language_info": {
   "codemirror_mode": {
    "name": "ipython",
    "version": 3
   },
   "file_extension": ".py",
   "mimetype": "text/x-python",
   "name": "python",
   "nbconvert_exporter": "python",
   "pygments_lexer": "ipython3",
   "version": "3.11.4"
  }
 },
 "nbformat": 4,
 "nbformat_minor": 5
}
